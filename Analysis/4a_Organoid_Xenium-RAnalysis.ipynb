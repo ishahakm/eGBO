{
 "cells": [
  {
   "cell_type": "code",
   "execution_count": 1,
   "id": "3d5a6b0f-a7d2-41de-a03f-f363b6ab4cda",
   "metadata": {
    "tags": []
   },
   "outputs": [
    {
     "name": "stderr",
     "output_type": "stream",
     "text": [
      "Loading required package: SeuratObject\n",
      "\n",
      "Loading required package: sp\n",
      "\n",
      "\n",
      "Attaching package: ‘SeuratObject’\n",
      "\n",
      "\n",
      "The following objects are masked from ‘package:base’:\n",
      "\n",
      "    intersect, t\n",
      "\n",
      "\n"
     ]
    }
   ],
   "source": [
    "# Load Libraries\n",
    "library(Seurat)\n",
    "library(SeuratWrappers)\n",
    "library(ggplot2)\n",
    "\n",
    "# Set Working Directory\n",
    "setwd(\"../\")"
   ]
  },
  {
   "cell_type": "markdown",
   "id": "25fcc891-1d8f-479d-bc3d-445b1713bc71",
   "metadata": {
    "jp-MarkdownHeadingCollapsed": true,
    "tags": []
   },
   "source": [
    "# WT Organoid"
   ]
  },
  {
   "cell_type": "markdown",
   "id": "f8f74098-744f-4e24-8053-f8fb9f216e01",
   "metadata": {
    "tags": []
   },
   "source": [
    "## Initial Processing"
   ]
  },
  {
   "cell_type": "code",
   "execution_count": null,
   "id": "fe15061a-7883-4745-b039-b78393e1bca8",
   "metadata": {
    "tags": []
   },
   "outputs": [],
   "source": [
    "path.wto <- \"GBMProject/XeniumData/Organoid_WT\"\n",
    "\n",
    "# Load the Xenium data\n",
    "xenium.wto <- LoadXenium(path.wto, fov = \"fov\")\n",
    "\n",
    "# remove cells with 0 counts\n",
    "xenium.wto <- subset(xenium.wto, subset = nCount_Xenium > 0)\n",
    "\n",
    "xenium.wto"
   ]
  },
  {
   "cell_type": "code",
   "execution_count": null,
   "id": "e95fbc54-d375-4891-87c2-1296768ec906",
   "metadata": {
    "tags": []
   },
   "outputs": [],
   "source": [
    "options(repr.plot.width=5, repr.plot.height=5) # To set the figure size in Jupyter\n",
    "VlnPlot(xenium.wto, features = c(\"nFeature_Xenium\", \"nCount_Xenium\"), ncol = 2, pt.size = 0)"
   ]
  },
  {
   "cell_type": "code",
   "execution_count": null,
   "id": "5904a8b2-7ab1-4f51-ac26-e8e792f7fe5e",
   "metadata": {
    "tags": []
   },
   "outputs": [],
   "source": [
    "xenium.wto <- NormalizeData(xenium.wto)\n",
    "xenium.wto <- FindVariableFeatures(xenium.wto, selection.method = \"vst\")\n",
    "xenium.wto <- ScaleData(xenium.wto, features = rownames(xenium.wto))\n",
    "xenium.wto <- RunPCA(xenium.wto, npcs = 30, features = rownames(xenium.wto), verbose = FALSE)\n",
    "xenium.wto <- RunUMAP(xenium.wto, dims = 1:15, verbose = FALSE)\n",
    "xenium.wto <- FindNeighbors(xenium.wto, reduction = \"pca\", dims = 1:15, verbose = FALSE)\n",
    "xenium.wto <- FindClusters(xenium.wto, resolution = 0.2, verbose = FALSE)"
   ]
  },
  {
   "cell_type": "markdown",
   "id": "73d9898b-1dcf-4a38-bb31-788685e2c128",
   "metadata": {
    "tags": []
   },
   "source": [
    "## Cell Type Annotation"
   ]
  },
  {
   "cell_type": "code",
   "execution_count": null,
   "id": "48ec135a-2302-4793-b63c-c4135a10c26e",
   "metadata": {
    "tags": []
   },
   "outputs": [],
   "source": [
    "scRNA.data <- readRDS(\"GBMProject/GBMOrganoid/Checkpoints/1_DataPreprocessing.rds\")\n",
    "counts_matrix <- scRNA.data[[\"RNA\"]]$data\n",
    "write.csv(counts_matrix, file='GBMProject/GBMOrganoid/scrna_mtx.csv', quote=F, row.names=T)\n",
    "Idents(scRNA.data) <- 'celltype2'"
   ]
  },
  {
   "cell_type": "code",
   "execution_count": null,
   "id": "a4e6dad4-a041-428c-bd85-edb3b37a17be",
   "metadata": {},
   "outputs": [],
   "source": [
    "anchors <- FindTransferAnchors(reference = scRNA.data, query = xenium.wto, normalization.method = \"LogNormalize\")\n",
    "anchors"
   ]
  },
  {
   "cell_type": "code",
   "execution_count": null,
   "id": "5ddabe96-876e-42f4-a221-0d63d9ab2a21",
   "metadata": {},
   "outputs": [],
   "source": [
    "predictions <- TransferData(anchorset = anchors, refdata = scRNA.data$celltype, prediction.assay = FALSE,\n",
    "    weight.reduction = xenium.wto[[\"pca\"]], dims = 1:30)\n",
    "\n",
    "xenium.wto$predicted.celltype <- predictions$predicted.id"
   ]
  },
  {
   "cell_type": "code",
   "execution_count": null,
   "id": "bb332f18-8571-4e3a-9814-2c39f2f20d97",
   "metadata": {},
   "outputs": [],
   "source": [
    "predictions2 <- TransferData(anchorset = anchors, refdata = scRNA.data$celltype2, prediction.assay = FALSE,\n",
    "    weight.reduction = xenium.wto[[\"pca\"]], dims = 1:30)\n",
    "\n",
    "xenium.wto$predicted.celltype2 <- predictions2$predicted.id"
   ]
  },
  {
   "cell_type": "code",
   "execution_count": null,
   "id": "e444f9b5-09c2-4d1e-bcea-c65be56908c7",
   "metadata": {
    "tags": []
   },
   "outputs": [],
   "source": [
    "table(xenium.wto$predicted.celltype)"
   ]
  },
  {
   "cell_type": "code",
   "execution_count": null,
   "id": "0dd00b77-04da-434f-a649-115e93a3edcd",
   "metadata": {
    "tags": []
   },
   "outputs": [],
   "source": [
    "options(repr.plot.width=15, repr.plot.height=10) # To set the figure size in Jupyter\n",
    "\n",
    "celltype.plot <- ImageDimPlot(xenium.wto, group.by = \"predicted.celltype2\", size = 1.5, dark.background = TRUE,\n",
    "                             cols=c(\"Mesenchyme-1\"=\"mediumpurple1\",\"RGC-2\"=\"skyblue2\",\"Proliferating\"=\"dimgray\",\"Neuronal\"=\"navyblue\",\"RGC-1\"=\"skyblue1\",\n",
    "              \"Proliferating\"=\"dimgray\",\"RGC-3\"=\"skyblue3\",\"Neuroepithelial\"=\"lightcoral\",\"Mesenchyme-2\"=\"mediumpurple3\",\n",
    "              \"RGC-1\"=\"skyblue1\",\"NeuralCrest\"=\"lightseagreen\",\"Retinal\"=\"goldenrod1\",\"RGC-2\"=\"skyblue2\",\n",
    "              \"RGC-3\"=\"skyblue3\",\"Endothelial\"=\"gray\",\"Microglia\"=\"lightgreen\")) + ggtitle(\"Cell type\")\n",
    "\n",
    "celltype.plot"
   ]
  },
  {
   "cell_type": "markdown",
   "id": "c5f17025-a94c-4b75-8168-809b12500b02",
   "metadata": {
    "tags": []
   },
   "source": [
    "## Save Data"
   ]
  },
  {
   "cell_type": "code",
   "execution_count": null,
   "id": "e1de1e07-e5ba-4a04-bebb-63fb734223f1",
   "metadata": {
    "tags": []
   },
   "outputs": [],
   "source": [
    "# write filtered barcodes \n",
    "write.csv(colnames(xenium.wto), file='GBMProject/GBMOrganoid/Barcodes_WT.csv', quote=F, row.names=T)\n",
    "\n",
    "# write predicted cell tpyes\n",
    "write.csv(xenium.wto$predicted.celltype, file='GBMProject/GBMOrganoid/PredCellType_WT.csv', quote=F, row.names=T)"
   ]
  },
  {
   "cell_type": "code",
   "execution_count": null,
   "id": "3c597cba-f190-4d1a-944d-a1ba508dca3f",
   "metadata": {},
   "outputs": [],
   "source": [
    "saveRDS(xenium.wto, file = \"GBMProject/GBMOrganoid/Checkpoints/XENIUM_WT.rds\")"
   ]
  },
  {
   "cell_type": "markdown",
   "id": "6a115a3c-f1cd-452f-b9ae-04f5ef27ffc0",
   "metadata": {
    "jp-MarkdownHeadingCollapsed": true,
    "tags": []
   },
   "source": [
    "# PRO Organoid"
   ]
  },
  {
   "cell_type": "markdown",
   "id": "33d69cad-b36d-4e41-970f-5ecb3ee26542",
   "metadata": {
    "tags": []
   },
   "source": [
    "## Initial Processing"
   ]
  },
  {
   "cell_type": "code",
   "execution_count": null,
   "id": "e17b7d28-4ea4-4d4f-bdc2-264276fd2c1f",
   "metadata": {
    "tags": []
   },
   "outputs": [],
   "source": [
    "path.pro <- \"GBMProject/XeniumData/Organoid_PRO\"\n",
    "# Load the Xenium data\n",
    "xenium.pro <- LoadXenium(path.pro, fov = \"fov\")\n",
    "# remove cells with 0 counts\n",
    "xenium.pro <- subset(xenium.pro, subset = nCount_Xenium > 0)"
   ]
  },
  {
   "cell_type": "code",
   "execution_count": null,
   "id": "f6f31025-38d5-43d2-b6f3-ba82702a76f2",
   "metadata": {
    "tags": []
   },
   "outputs": [],
   "source": [
    "options(repr.plot.width=5, repr.plot.height=5) # To set the figure size in Jupyter\n",
    "VlnPlot(xenium.pro, features = c(\"nFeature_Xenium\", \"nCount_Xenium\"), ncol = 2, pt.size = 0)"
   ]
  },
  {
   "cell_type": "code",
   "execution_count": null,
   "id": "3feb9b6b-831f-4d5c-9585-dd7fcbdd9947",
   "metadata": {
    "tags": []
   },
   "outputs": [],
   "source": [
    "xenium.pro <- NormalizeData(xenium.pro)\n",
    "xenium.pro <- FindVariableFeatures(xenium.pro, selection.method = \"vst\")\n",
    "xenium.pro <- ScaleData(xenium.pro, features = rownames(xenium.pro))\n",
    "xenium.pro <- RunPCA(xenium.pro, npcs = 30, features = rownames(xenium.pro), verbose = FALSE)\n",
    "xenium.pro <- RunUMAP(xenium.pro, dims = 1:15, verbose = FALSE)\n",
    "xenium.pro <- FindNeighbors(xenium.pro, reduction = \"pca\", dims = 1:15, verbose = FALSE)\n",
    "xenium.pro <- FindClusters(xenium.pro, resolution = 0.2, verbose = FALSE)"
   ]
  },
  {
   "cell_type": "markdown",
   "id": "7c69c90b-3f6a-437b-b4bb-7fd04b340417",
   "metadata": {
    "tags": []
   },
   "source": [
    "## Cell Type Annotation"
   ]
  },
  {
   "cell_type": "code",
   "execution_count": null,
   "id": "2a189aca-c658-421e-8a12-774521007a5e",
   "metadata": {},
   "outputs": [],
   "source": [
    "anchors <- FindTransferAnchors(reference = scRNA.data, query = xenium.pro, normalization.method = \"LogNormalize\")\n",
    "anchors"
   ]
  },
  {
   "cell_type": "code",
   "execution_count": null,
   "id": "c5b70a64-a332-41fe-8552-94c8976db3ce",
   "metadata": {},
   "outputs": [],
   "source": [
    "predictions <- TransferData(anchorset = anchors, refdata = scRNA.data$celltype, prediction.assay = FALSE,\n",
    "    weight.reduction = xenium.pro[[\"pca\"]], dims = 1:30)\n",
    "\n",
    "xenium.pro$predicted.celltype <- predictions$predicted.id"
   ]
  },
  {
   "cell_type": "code",
   "execution_count": null,
   "id": "d1c457aa-a2e5-468b-88c7-4ccc3656168b",
   "metadata": {},
   "outputs": [],
   "source": [
    "predictions2 <- TransferData(anchorset = anchors, refdata = scRNA.data$celltype2, prediction.assay = FALSE,\n",
    "    weight.reduction = xenium.pro[[\"pca\"]], dims = 1:30)\n",
    "\n",
    "xenium.pro$predicted.celltype2 <- predictions2$predicted.id"
   ]
  },
  {
   "cell_type": "code",
   "execution_count": null,
   "id": "058af04c-6e4c-43ad-8712-f8d7f9ba59f9",
   "metadata": {
    "tags": []
   },
   "outputs": [],
   "source": [
    "table(xenium.pro$predicted.celltype)"
   ]
  },
  {
   "cell_type": "code",
   "execution_count": null,
   "id": "836adcd4-5b56-41ac-b11f-a5f064d17706",
   "metadata": {
    "tags": []
   },
   "outputs": [],
   "source": [
    "options(repr.plot.width=15, repr.plot.height=10) # To set the figure size in Jupyter\n",
    "\n",
    "celltype.plot <- ImageDimPlot(xenium.pro, group.by = \"predicted.celltype2\", size = 1.5, dark.background = F,\n",
    "                             cols=c(\"Mesenchyme-1\"=\"mediumpurple1\",\"RGC-2\"=\"skyblue2\",\"Proliferating\"=\"dimgray\",\"Neuronal\"=\"navyblue\",\"RGC-1\"=\"skyblue1\",\n",
    "              \"Proliferating\"=\"dimgray\",\"RGC-3\"=\"skyblue3\",\"Neuroepithelial\"=\"lightcoral\",\"Mesenchyme-2\"=\"mediumpurple3\",\n",
    "              \"RGC-1\"=\"skyblue1\",\"NeuralCrest\"=\"lightseagreen\",\"Retinal\"=\"goldenrod1\",\"RGC-2\"=\"skyblue2\",\n",
    "              \"RGC-3\"=\"skyblue3\",\"Endothelial\"=\"gray\",\"Microglia\"=\"lightgreen\")) + ggtitle(\"Cell type\")\n",
    "\n",
    "celltype.plot"
   ]
  },
  {
   "cell_type": "markdown",
   "id": "6077471f-0a85-49ac-a0b8-1f4d914c2a32",
   "metadata": {
    "tags": []
   },
   "source": [
    "## Save Data"
   ]
  },
  {
   "cell_type": "code",
   "execution_count": null,
   "id": "ecbf35d4-288e-46c3-8f6b-4c5a118d45c8",
   "metadata": {},
   "outputs": [],
   "source": [
    "# write filtered barcodes \n",
    "write.csv(colnames(xenium.pro), file='GBMProject/GBMOrganoid/Barcodes_PRO.csv', quote=F, row.names=T)\n",
    "\n",
    "# write predicted cell tpyes\n",
    "write.csv(xenium.pro$predicted.celltype, file='GBMProject/GBMOrganoid/PredCellType_PRO.csv', quote=F, row.names=T)"
   ]
  },
  {
   "cell_type": "code",
   "execution_count": null,
   "id": "7897f4c1-a242-4c27-9c54-229662c3b9df",
   "metadata": {},
   "outputs": [],
   "source": [
    "saveRDS(xenium.pro, file = \"GBMProject/GBMOrganoid/Checkpoints/XENIUM_PRO.rds\")"
   ]
  },
  {
   "cell_type": "markdown",
   "id": "50b5e897-c2af-47b4-9e87-4add94a0edf1",
   "metadata": {
    "tags": []
   },
   "source": [
    "# MES Organoid"
   ]
  },
  {
   "cell_type": "markdown",
   "id": "acc2f76f-2c98-4634-ba0b-d803fabf12ca",
   "metadata": {
    "tags": []
   },
   "source": [
    "## Iniital Processing"
   ]
  },
  {
   "cell_type": "code",
   "execution_count": null,
   "id": "5649cbcb-cc21-4901-aded-687c92cdd6e0",
   "metadata": {
    "tags": []
   },
   "outputs": [],
   "source": [
    "path.mes <- \"GBMProject/XeniumData/Organoid_MES\"\n",
    "# Load the Xenium data\n",
    "xenium.mes <- LoadXenium(path.mes, fov = \"fov\")\n",
    "# remove cells with 0 counts\n",
    "xenium.mes <- subset(xenium.mes, subset = nCount_Xenium > 0)"
   ]
  },
  {
   "cell_type": "code",
   "execution_count": null,
   "id": "791602e7-a04f-4b88-9944-95dfbf40275c",
   "metadata": {
    "tags": []
   },
   "outputs": [],
   "source": [
    "options(repr.plot.width=5, repr.plot.height=5) # To set the figure size in Jupyter\n",
    "VlnPlot(xenium.mes, features = c(\"nFeature_Xenium\", \"nCount_Xenium\"), ncol = 2, pt.size = 0)"
   ]
  },
  {
   "cell_type": "code",
   "execution_count": null,
   "id": "a1c51649-d137-4665-825d-7b435e0c5203",
   "metadata": {
    "tags": []
   },
   "outputs": [],
   "source": [
    "xenium.mes <- NormalizeData(xenium.mes)\n",
    "xenium.mes <- FindVariableFeatures(xenium.mes, selection.method = \"vst\")\n",
    "xenium.mes <- ScaleData(xenium.mes, features = rownames(xenium.mes))\n",
    "xenium.mes <- RunPCA(xenium.mes, npcs = 30, features = rownames(xenium.mes), verbose = FALSE)\n",
    "xenium.mes <- RunUMAP(xenium.mes, dims = 1:15, verbose = FALSE)\n",
    "xenium.mes <- FindNeighbors(xenium.mes, reduction = \"pca\", dims = 1:15, verbose = FALSE)\n",
    "xenium.mes <- FindClusters(xenium.mes, resolution = 0.2, verbose = FALSE)"
   ]
  },
  {
   "cell_type": "code",
   "execution_count": null,
   "id": "050e417a-55ce-41e1-8013-8b846684fa9d",
   "metadata": {},
   "outputs": [],
   "source": [
    "xenium.mes <- FindSpatiallyVariableFeatures(xenium.mes, assay = \"SCT\", features = VariableFeatures(xenium.mes),\n",
    "    selection.method = \"moransi\")"
   ]
  },
  {
   "cell_type": "markdown",
   "id": "9398ef07-1c37-47d8-a77f-4949db8626dc",
   "metadata": {},
   "source": [
    "## Cell Type Annotation"
   ]
  },
  {
   "cell_type": "code",
   "execution_count": null,
   "id": "746cb719-7746-4637-8bfe-63ca91038db9",
   "metadata": {},
   "outputs": [],
   "source": [
    "anchors <- FindTransferAnchors(reference = scRNA.data, query = xenium.mes, normalization.method = \"LogNormalize\")\n",
    "anchors"
   ]
  },
  {
   "cell_type": "code",
   "execution_count": null,
   "id": "b5283efc-d65c-4d24-a9f4-d2496e150507",
   "metadata": {},
   "outputs": [],
   "source": [
    "predictions <- TransferData(anchorset = anchors, refdata = scRNA.data$celltype, prediction.assay = FALSE,\n",
    "    weight.reduction = xenium.mes[[\"pca\"]], dims = 1:30)\n",
    "\n",
    "xenium.mes$predicted.celltype <- predictions$predicted.id"
   ]
  },
  {
   "cell_type": "code",
   "execution_count": null,
   "id": "8e23314f-0fd9-4088-90fe-19aea1a663f2",
   "metadata": {},
   "outputs": [],
   "source": [
    "predictions2 <- TransferData(anchorset = anchors, refdata = scRNA.data$celltype2, prediction.assay = FALSE,\n",
    "    weight.reduction = xenium.mes[[\"pca\"]], dims = 1:30)\n",
    "\n",
    "xenium.mes$predicted.celltype2 <- predictions2$predicted.id"
   ]
  },
  {
   "cell_type": "code",
   "execution_count": null,
   "id": "905edba9-31a6-4a4b-ba98-2683b680b88b",
   "metadata": {
    "tags": []
   },
   "outputs": [],
   "source": [
    "table(xenium.mes$predicted.celltype)"
   ]
  },
  {
   "cell_type": "code",
   "execution_count": null,
   "id": "04b7ef36-20c5-4213-91ea-c041933f7442",
   "metadata": {
    "tags": []
   },
   "outputs": [],
   "source": [
    "options(repr.plot.width=15, repr.plot.height=10) # To set the figure size in Jupyter\n",
    "\n",
    "celltype.plot <- ImageDimPlot(xenium.mes, group.by = \"predicted.celltype2\", size = 1.5, dark.background = F,\n",
    "                             cols=c(\"Mesenchyme-1\"=\"mediumpurple1\",\"RGC-2\"=\"skyblue2\",\"Proliferating\"=\"dimgray\",\"Neuronal\"=\"navyblue\",\"RGC-1\"=\"skyblue1\",\n",
    "              \"Proliferating\"=\"dimgray\",\"RGC-3\"=\"skyblue3\",\"Neuroepithelial\"=\"lightcoral\",\"Mesenchyme-2\"=\"mediumpurple3\",\n",
    "              \"RGC-1\"=\"skyblue1\",\"NeuralCrest\"=\"lightseagreen\",\"Retinal\"=\"goldenrod1\",\"RGC-2\"=\"skyblue2\",\n",
    "              \"RGC-3\"=\"skyblue3\",\"Endothelial\"=\"gray\",\"Microglia\"=\"lightgreen\")) + ggtitle(\"Cell type\")\n",
    "\n",
    "celltype.plot"
   ]
  },
  {
   "cell_type": "markdown",
   "id": "7179339e-a04d-448e-8cbc-cda8b491f286",
   "metadata": {},
   "source": [
    "## Save Data"
   ]
  },
  {
   "cell_type": "code",
   "execution_count": null,
   "id": "c82f8c75-3887-426a-935f-7e81900f1bc9",
   "metadata": {},
   "outputs": [],
   "source": [
    "# write filtered barcodes \n",
    "write.csv(colnames(xenium.mes), file='GBMProject/GBMOrganoid/Barcodes_MES.csv', quote=F, row.names=T)\n",
    "\n",
    "# write predicted cell tpyes\n",
    "write.csv(xenium.mes$predicted.celltype, file='GBMProject/GBMOrganoid/PredCellType_MES.csv', quote=F, row.names=T)"
   ]
  },
  {
   "cell_type": "code",
   "execution_count": null,
   "id": "263864eb-757f-47f0-9cc6-01d920286ac2",
   "metadata": {},
   "outputs": [],
   "source": [
    "saveRDS(xenium.mes, file = \"GBMProject/GBMOrganoid/Checkpoints/XENIUM_MES.rds\")"
   ]
  },
  {
   "cell_type": "markdown",
   "id": "440f7dbd-8dd6-43e0-8971-59ddc731946f",
   "metadata": {},
   "source": [
    "# Cell Type Proportions"
   ]
  },
  {
   "cell_type": "code",
   "execution_count": null,
   "id": "c87107e8-5726-445b-a7cd-befa89372a98",
   "metadata": {},
   "outputs": [],
   "source": [
    "# Calculate cell type proportions\n",
    "prop.celltype.wt <- data.frame(prop.table(table(xenium.wto$predicted.celltype)))\n",
    "prop.celltype.wt$HTO <- 'WT'\n",
    "prop.celltype.pro <- data.frame(prop.table(table(xenium.pro$predicted.celltype)))\n",
    "prop.celltype.pro$HTO <- 'PRO'\n",
    "prop.celltype.mes <- data.frame(prop.table(table(xenium.mes$predicted.celltype)))\n",
    "prop.celltype.mes$HTO <- 'MES'\n",
    "\n",
    "prop.celltype <- rbind(prop.celltype.wt, prop.celltype.pro)\n",
    "prop.celltype <- rbind(prop.celltype, prop.celltype.mes)\n",
    "\n",
    "prop.celltype"
   ]
  }
 ],
 "metadata": {
  "kernelspec": {
   "display_name": "R",
   "language": "R",
   "name": "ir"
  },
  "language_info": {
   "codemirror_mode": "r",
   "file_extension": ".r",
   "mimetype": "text/x-r-source",
   "name": "R",
   "pygments_lexer": "r",
   "version": "4.3.1"
  }
 },
 "nbformat": 4,
 "nbformat_minor": 5
}
